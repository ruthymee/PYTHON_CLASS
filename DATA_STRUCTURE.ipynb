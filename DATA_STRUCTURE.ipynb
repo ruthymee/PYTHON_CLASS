{
 "cells": [
  {
   "cell_type": "raw",
   "id": "a601a17c-fc11-465e-8bd0-fffc02298a97",
   "metadata": {},
   "source": [
    "DATA STRUCTURE\n",
    "LIST"
   ]
  },
  {
   "cell_type": "code",
   "execution_count": 2,
   "id": "c1097255-96e9-4f91-b3ea-0081ca0f6ff2",
   "metadata": {},
   "outputs": [
    {
     "name": "stdout",
     "output_type": "stream",
     "text": [
      "['apple', 'orange', 'banana', 'watermelon', ' guava']\n"
     ]
    }
   ],
   "source": [
    "empty_list=[]\n",
    "list_number=[1,2,3,4,5,6,7]\n",
    "list_fruit=['apple','orange','banana', 'watermelon',' guava']\n",
    "print(list_fruit)"
   ]
  },
  {
   "cell_type": "code",
   "execution_count": 12,
   "id": "9dfb7654-df73-40d2-b8c2-8141e3f04ea2",
   "metadata": {},
   "outputs": [
    {
     "data": {
      "text/plain": [
       "['banana', 'watermelon']"
      ]
     },
     "execution_count": 12,
     "metadata": {},
     "output_type": "execute_result"
    }
   ],
   "source": [
    "# list_indexing/assessing\n",
    "list_fruit[2:4] # slicing\n",
    "#list_fruit[0] #assessing first element\n",
    "#list_fruit[-1] # negative indexing\n",
    "list_fruit[1:] #ranging\n"
   ]
  },
  {
   "cell_type": "code",
   "execution_count": 14,
   "id": "c4a58431-2296-42af-922d-bdf2f71eb68a",
   "metadata": {},
   "outputs": [
    {
     "data": {
      "text/plain": [
       "'apple'"
      ]
     },
     "execution_count": 14,
     "metadata": {},
     "output_type": "execute_result"
    }
   ],
   "source": [
    "list_fruit[0] #assessing first element"
   ]
  },
  {
   "cell_type": "code",
   "execution_count": 16,
   "id": "039a702b-efad-490b-b86a-20c23ee1aba3",
   "metadata": {},
   "outputs": [
    {
     "data": {
      "text/plain": [
       "' guava'"
      ]
     },
     "execution_count": 16,
     "metadata": {},
     "output_type": "execute_result"
    }
   ],
   "source": [
    "list_fruit[-1] # negative indexing"
   ]
  },
  {
   "cell_type": "code",
   "execution_count": 18,
   "id": "46af4d5e-2e8d-4981-b0d6-d546da229db0",
   "metadata": {},
   "outputs": [
    {
     "data": {
      "text/plain": [
       "['orange', 'banana', 'watermelon', ' guava']"
      ]
     },
     "execution_count": 18,
     "metadata": {},
     "output_type": "execute_result"
    }
   ],
   "source": [
    "list_fruit[1:] #ranging"
   ]
  },
  {
   "cell_type": "code",
   "execution_count": 20,
   "id": "56a1d5f4-05a3-4889-ae03-1a464a087ca0",
   "metadata": {},
   "outputs": [
    {
     "name": "stdout",
     "output_type": "stream",
     "text": [
      "[1, 2, 3, 4, 5, 6, 7]\n"
     ]
    }
   ],
   "source": [
    "list_number=[1,2,3,4,5,6,7]\n",
    "print(list_number)"
   ]
  },
  {
   "cell_type": "code",
   "execution_count": 38,
   "id": "4e4291e1-d2f0-408b-af94-46c538ebf3d5",
   "metadata": {},
   "outputs": [
    {
     "name": "stdout",
     "output_type": "stream",
     "text": [
      "['apple', 'orange', 'cherry', 'cherry', 'pear', ' guava', 'mango']\n"
     ]
    }
   ],
   "source": [
    "#list append (adding element to the end of the list)\n",
    "list_fruit.append('mango')\n",
    "print(list_fruit)"
   ]
  },
  {
   "cell_type": "code",
   "execution_count": 40,
   "id": "81d17826-645e-44dc-b41c-dbb81a4badca",
   "metadata": {},
   "outputs": [
    {
     "data": {
      "text/plain": [
       "['apple', 'orange', 'cherry', 'cherry', 'cherry', 'pear', ' guava', 'mango']"
      ]
     },
     "execution_count": 40,
     "metadata": {},
     "output_type": "execute_result"
    }
   ],
   "source": [
    "#addimg element to a list in specified index\n",
    "list_fruit.insert(2,'cherry')\n",
    "list_fruit"
   ]
  },
  {
   "cell_type": "code",
   "execution_count": 42,
   "id": "6ae3a195-da76-4796-8481-d5be68c9b4bb",
   "metadata": {},
   "outputs": [
    {
     "name": "stdout",
     "output_type": "stream",
     "text": [
      "['apple', 'orange', 'cherry', 'cherry', 'pear', 'pear', ' guava', 'mango']\n"
     ]
    }
   ],
   "source": [
    "#replacing a value in a list in a specified index\n",
    "#changing value in a list\n",
    "list_fruit[4]='pear'\n",
    "print(list_fruit)"
   ]
  },
  {
   "cell_type": "code",
   "execution_count": 44,
   "id": "7d102a9f-0c33-448a-92a8-c30d796ab660",
   "metadata": {},
   "outputs": [
    {
     "name": "stdout",
     "output_type": "stream",
     "text": [
      "['apple', 'orange', 'cherry', 'cherry', 'pear', 'pear', ' guava']\n"
     ]
    }
   ],
   "source": [
    "#removing element in a list\n",
    "list_fruit.remove('mango')\n",
    "print(list_fruit)"
   ]
  },
  {
   "cell_type": "code",
   "execution_count": 32,
   "id": "9054d6c6-89f8-4984-8232-3bc70f548b4d",
   "metadata": {},
   "outputs": [
    {
     "name": "stdout",
     "output_type": "stream",
     "text": [
      "['apple', 'orange', 'cherry', 'pear', ' guava']\n"
     ]
    }
   ],
   "source": [
    "del(list_fruit[3])\n",
    "print(list_fruit)"
   ]
  },
  {
   "cell_type": "code",
   "execution_count": 48,
   "id": "a217d33f-adc3-4012-9ea4-2308d89c3096",
   "metadata": {},
   "outputs": [
    {
     "name": "stdout",
     "output_type": "stream",
     "text": [
      "['apple', 'orange', 'cherry', 'cherry', 'pear', 'pear']\n"
     ]
    }
   ],
   "source": [
    "del(list_fruit[6:])\n",
    "print(list_fruit)\n"
   ]
  },
  {
   "cell_type": "code",
   "execution_count": null,
   "id": "6f86ada2-a331-4b50-9dc4-109a1f0de08d",
   "metadata": {},
   "outputs": [],
   "source": []
  },
  {
   "cell_type": "markdown",
   "id": "68f4a533-1566-4104-980a-7ea61f18d289",
   "metadata": {},
   "source": [
    "DICTIONARY"
   ]
  },
  {
   "cell_type": "code",
   "execution_count": 9,
   "id": "dc375e76-b060-47cc-add0-dcb5eafda7d8",
   "metadata": {},
   "outputs": [
    {
     "name": "stdout",
     "output_type": "stream",
     "text": [
      "{'Name': 'Ruth', 'Course': 'Data science', 'Year': 2024}\n"
     ]
    }
   ],
   "source": [
    "dict_item={'Name':'Ruth', 'Course':\"Data science\" , 'Year':2024}\n",
    "dict_item #or you can use the next syntax to print\n",
    "print(dict_item)"
   ]
  },
  {
   "cell_type": "code",
   "execution_count": 57,
   "id": "41124aa0-386c-433d-ae2f-e460ef8d3e5c",
   "metadata": {},
   "outputs": [
    {
     "name": "stdout",
     "output_type": "stream",
     "text": [
      "Name\n",
      "Course\n",
      "Year\n"
     ]
    }
   ],
   "source": [
    "for key in dict_item.keys():\n",
    "    print(key)"
   ]
  },
  {
   "cell_type": "code",
   "execution_count": 59,
   "id": "47dff612-f4d0-4a3f-8e1b-2af15947e210",
   "metadata": {},
   "outputs": [
    {
     "name": "stdout",
     "output_type": "stream",
     "text": [
      "Ruth\n",
      "Data science\n",
      "2024\n"
     ]
    }
   ],
   "source": [
    "for val in dict_item.values():\n",
    "    print(val)"
   ]
  },
  {
   "cell_type": "code",
   "execution_count": 5,
   "id": "3df93fd9-7fff-4f0f-ae75-662d007e9172",
   "metadata": {},
   "outputs": [
    {
     "name": "stdout",
     "output_type": "stream",
     "text": [
      "('Name', 'Ruth')\n",
      "('Course', 'Data science')\n",
      "('Year', 2024)\n"
     ]
    }
   ],
   "source": [
    "for item in dict_item.items():\n",
    "    print(item)"
   ]
  },
  {
   "cell_type": "code",
   "execution_count": null,
   "id": "73ccaecf-dcf7-4c91-8a5e-d57abd83da6f",
   "metadata": {},
   "outputs": [],
   "source": []
  },
  {
   "cell_type": "code",
   "execution_count": 86,
   "id": "029cb9b0-c97c-4b8a-b524-c8fa83b7b5f3",
   "metadata": {},
   "outputs": [
    {
     "name": "stdout",
     "output_type": "stream",
     "text": [
      "{'Name': 'Ruth', 'Course': 'Data science', 'session': 'morning', 'cohort': 3}\n"
     ]
    }
   ],
   "source": [
    "dict_item['cohort']=3 # adding element to the dictionary\n",
    "print(dict_item)"
   ]
  },
  {
   "cell_type": "code",
   "execution_count": null,
   "id": "3f135910-f3d4-429e-beae-eb2e4daa7121",
   "metadata": {},
   "outputs": [],
   "source": []
  },
  {
   "cell_type": "code",
   "execution_count": 80,
   "id": "51e60ac2-f718-4e93-be07-51cfa1ea547f",
   "metadata": {},
   "outputs": [
    {
     "data": {
      "text/plain": [
       "{'Name': 'Ruth', 'Course': 'Data science', 'session': 'morning'}"
      ]
     },
     "execution_count": 80,
     "metadata": {},
     "output_type": "execute_result"
    }
   ],
   "source": [
    "dict_item.update({'session':'morning'}) # adding element using  update\n",
    "dict_item"
   ]
  },
  {
   "cell_type": "code",
   "execution_count": null,
   "id": "73a24380-9c05-4426-9e54-37029bb5466c",
   "metadata": {},
   "outputs": [],
   "source": []
  },
  {
   "cell_type": "code",
   "execution_count": 15,
   "id": "06878c74-48bd-4102-b101-cea61416ea16",
   "metadata": {},
   "outputs": [
    {
     "ename": "TypeError",
     "evalue": "unhashable type: 'set'",
     "output_type": "error",
     "traceback": [
      "\u001b[1;31m---------------------------------------------------------------------------\u001b[0m",
      "\u001b[1;31mTypeError\u001b[0m                                 Traceback (most recent call last)",
      "Cell \u001b[1;32mIn[15], line 1\u001b[0m\n\u001b[1;32m----> 1\u001b[0m dict_item\u001b[38;5;241m.\u001b[39mpop({\u001b[38;5;124m'\u001b[39m\u001b[38;5;124myear\u001b[39m\u001b[38;5;124m'\u001b[39m})\n\u001b[0;32m      2\u001b[0m \u001b[38;5;28mprint\u001b[39m(dict_item)\n",
      "\u001b[1;31mTypeError\u001b[0m: unhashable type: 'set'"
     ]
    }
   ],
   "source": [
    "dict_item.pop({'year'})\n",
    "print(dict_item)"
   ]
  },
  {
   "cell_type": "code",
   "execution_count": null,
   "id": "7e9ad74f-2803-4152-b93c-ae85717e2b8c",
   "metadata": {},
   "outputs": [],
   "source": []
  },
  {
   "cell_type": "code",
   "execution_count": null,
   "id": "c3d46d34-24a9-4c78-b82a-ac7519670e50",
   "metadata": {},
   "outputs": [],
   "source": []
  },
  {
   "cell_type": "code",
   "execution_count": null,
   "id": "04b325c7-7c71-49b5-9979-d2ff0d797f00",
   "metadata": {},
   "outputs": [],
   "source": []
  },
  {
   "cell_type": "code",
   "execution_count": null,
   "id": "2ebd4b45-fff3-45f0-97d8-3397a8d651ac",
   "metadata": {},
   "outputs": [],
   "source": []
  },
  {
   "cell_type": "code",
   "execution_count": null,
   "id": "bfcd8f10-8bfb-4164-8ffc-3d5004b20afe",
   "metadata": {},
   "outputs": [],
   "source": []
  },
  {
   "cell_type": "code",
   "execution_count": null,
   "id": "cbc94ae8-a7d5-47c6-b5d2-e6a8e9a3043c",
   "metadata": {},
   "outputs": [],
   "source": []
  }
 ],
 "metadata": {
  "kernelspec": {
   "display_name": "Python 3 (ipykernel)",
   "language": "python",
   "name": "python3"
  },
  "language_info": {
   "codemirror_mode": {
    "name": "ipython",
    "version": 3
   },
   "file_extension": ".py",
   "mimetype": "text/x-python",
   "name": "python",
   "nbconvert_exporter": "python",
   "pygments_lexer": "ipython3",
   "version": "3.12.4"
  }
 },
 "nbformat": 4,
 "nbformat_minor": 5
}
